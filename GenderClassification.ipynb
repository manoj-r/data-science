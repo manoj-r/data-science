{
  "nbformat": 4,
  "nbformat_minor": 0,
  "metadata": {
    "colab": {
      "name": "GenderClassification.ipynb",
      "version": "0.3.2",
      "provenance": [],
      "collapsed_sections": [],
      "include_colab_link": true
    },
    "kernelspec": {
      "name": "python3",
      "display_name": "Python 3"
    }
  },
  "cells": [
    {
      "cell_type": "markdown",
      "metadata": {
        "id": "view-in-github",
        "colab_type": "text"
      },
      "source": [
        "<a href=\"https://colab.research.google.com/github/manoj-r/pythonfordatascience/blob/master/GenderClassification.ipynb\" target=\"_parent\"><img src=\"https://colab.research.google.com/assets/colab-badge.svg\" alt=\"Open In Colab\"/></a>"
      ]
    },
    {
      "metadata": {
        "id": "G72zq9kADigC",
        "colab_type": "code",
        "colab": {}
      },
      "cell_type": "code",
      "source": [
        "from sklearn import tree\n",
        "from sklearn.gaussian_process import GaussianProcessClassifier\n",
        "from sklearn.ensemble import RandomForestClassifier\n",
        "from sklearn.neighbors import KNeighborsClassifier"
      ],
      "execution_count": 0,
      "outputs": []
    },
    {
      "metadata": {
        "id": "vGrYUqEDFhT9",
        "colab_type": "code",
        "colab": {}
      },
      "cell_type": "code",
      "source": [
        "# [height, weight, shoe_size]\n",
        "X = [[181, 80, 44], [177, 70, 43], [160, 60, 38], [154, 54, 37], [166, 65, 40],\n",
        "     [190, 90, 47], [175, 64, 39],\n",
        "     [177, 70, 40], [159, 55, 37], [171, 75, 42], [181, 85, 43]]\n",
        "\n",
        "Y = ['male', 'male', 'female', 'female', 'male', 'male', 'female', 'female',\n",
        "     'female', 'male', 'male']"
      ],
      "execution_count": 0,
      "outputs": []
    },
    {
      "metadata": {
        "id": "D1qvNfrlDzjr",
        "colab_type": "code",
        "colab": {
          "base_uri": "https://localhost:8080/",
          "height": 34
        },
        "outputId": "1a501d2c-af2f-4059-f18b-f5852c6595c5"
      },
      "cell_type": "code",
      "source": [
        "#Decision Tree\n",
        "clf = tree.DecisionTreeClassifier()\n",
        "\n",
        "clf = clf.fit(X, Y)\n",
        "\n",
        "prediction = clf.predict([[190, 70, 43]])\n",
        "\n",
        "print(prediction)"
      ],
      "execution_count": 10,
      "outputs": [
        {
          "output_type": "stream",
          "text": [
            "['male']\n"
          ],
          "name": "stdout"
        }
      ]
    },
    {
      "metadata": {
        "id": "ZAqJZNKVFfIP",
        "colab_type": "code",
        "colab": {
          "base_uri": "https://localhost:8080/",
          "height": 34
        },
        "outputId": "746b3474-0bf6-49f2-ea76-068232c91322"
      },
      "cell_type": "code",
      "source": [
        " gpc = GaussianProcessClassifier().fit(X, Y)\n",
        " gpc.predict([[190, 70, 43]]) "
      ],
      "execution_count": 11,
      "outputs": [
        {
          "output_type": "execute_result",
          "data": {
            "text/plain": [
              "array(['male'], dtype='<U6')"
            ]
          },
          "metadata": {
            "tags": []
          },
          "execution_count": 11
        }
      ]
    },
    {
      "metadata": {
        "id": "4V5IGRbX2TuL",
        "colab_type": "code",
        "colab": {
          "base_uri": "https://localhost:8080/",
          "height": 68
        },
        "outputId": "32bc366e-ef0f-4e10-9eec-77e03e58654a"
      },
      "cell_type": "code",
      "source": [
        "rfc = RandomForestClassifier();\n",
        "rfc = rfc.fit(X,Y);\n",
        "\n",
        "prediction = rfc.predict([[190, 70, 43]]);\n",
        "\n",
        "print(prediction)"
      ],
      "execution_count": 12,
      "outputs": [
        {
          "output_type": "stream",
          "text": [
            "['male']\n"
          ],
          "name": "stdout"
        },
        {
          "output_type": "stream",
          "text": [
            "/usr/local/lib/python3.6/dist-packages/sklearn/ensemble/forest.py:246: FutureWarning: The default value of n_estimators will change from 10 in version 0.20 to 100 in 0.22.\n",
            "  \"10 in version 0.20 to 100 in 0.22.\", FutureWarning)\n"
          ],
          "name": "stderr"
        }
      ]
    },
    {
      "metadata": {
        "id": "AYN7VAqj2UNy",
        "colab_type": "code",
        "colab": {
          "base_uri": "https://localhost:8080/",
          "height": 34
        },
        "outputId": "15a2c5d6-b7d0-4fba-fb46-7cabea50cf07"
      },
      "cell_type": "code",
      "source": [
        "knc = KNeighborsClassifier(11)\n",
        "knc.fit(X, Y)\n",
        "\n",
        "knc.predict([[190, 70, 43]])"
      ],
      "execution_count": 13,
      "outputs": [
        {
          "output_type": "execute_result",
          "data": {
            "text/plain": [
              "array(['male'], dtype='<U6')"
            ]
          },
          "metadata": {
            "tags": []
          },
          "execution_count": 13
        }
      ]
    }
  ]
}